{
 "cells": [
  {
   "cell_type": "code",
   "execution_count": 1,
   "metadata": {},
   "outputs": [],
   "source": [
    "#Importing Libraries\n",
    "from __future__ import print_function\n",
    "%matplotlib inline\n",
    "import os\n",
    "import numpy as np\n",
    "import matplotlib.pyplot as plt\n",
    "import matplotlib.image as image\n",
    "plt.style.use(\"ggplot\")\n",
    "\n",
    "from skimage import io\n",
    "from sklearn.cluster import KMeans\n",
    "\n",
    "from ipywidgets import interact, interactive, fixed, interact_manual, IntSlider\n",
    "import ipywidgets as widgets\n",
    "\n",
    "from sklearn.cluster import MiniBatchKMeans\n",
    "#high resolution images ==MiniBatchKMeans==>small batches \n",
    "plt.rcParams['figure.figsize'] = (20, 12)"
   ]
  },
  {
   "cell_type": "code",
   "execution_count": 2,
   "metadata": {},
   "outputs": [],
   "source": [
    "img_dir = 'images/'\n",
    "#adding dropdown menu and a slider using Ipythonwidgets\n",
    "#https://ipywidgets.readthedocs.io/en/latest/examples/Using%20Interact.html"
   ]
  },
  {
   "cell_type": "code",
   "execution_count": 4,
   "metadata": {},
   "outputs": [
    {
     "data": {
      "application/vnd.jupyter.widget-view+json": {
       "model_id": "dc7c872e7ae0480b9cceb71703290c91",
       "version_major": 2,
       "version_minor": 0
      },
      "text/plain": [
       "interactive(children=(Dropdown(description='image', options=('1-Saint-Basils-Cathedral.jpg', '10-Sunset.jpg', …"
      ]
     },
     "metadata": {},
     "output_type": "display_data"
    }
   ],
   "source": [
    "@interact #decorater \n",
    "def color_compression(image=os.listdir(img_dir), k=IntSlider(min=1,max=250,step=1,value=16,\n",
    "                                                             continuous_update=False,\n",
    "                                                             layout=dict(width='100%'))):\n",
    "    \n",
    "    #continuous_update will be false so only update when we realease the slider\n",
    "    #width here is sliderlayout \n",
    "    input_img = io.imread(img_dir + image)\n",
    "    img_data = (input_img / 255.0).reshape(-1, 3)\n",
    "    \n",
    "    kmeans = MiniBatchKMeans(k).fit(img_data)\n",
    "    k_colors = kmeans.cluster_centers_[kmeans.predict(img_data)]\n",
    "    #After K-means has converged, load the large image into your program and \n",
    "    #replace each of its pixels with the nearest of the centroid colors you found\n",
    "    #from the small image. \n",
    "    k_img = np.reshape(k_colors, (input_img.shape))\n",
    "    \n",
    "    fig, (ax1, ax2) = plt.subplots(1, 2)#this show 1 row but 2 col means one row has 2 images\n",
    "    fig.suptitle('K-means Clustering (Dominant colors Extraction)', fontsize=50)\n",
    "    \n",
    "    ax1.set_title('Compressed')\n",
    "    ax1.set_xticks([])\n",
    "    ax1.set_yticks([])\n",
    "    ax1.imshow(k_img)\n",
    "    \n",
    "    ax2.set_title('Original')\n",
    "    ax2.set_xticks([])\n",
    "    ax2.set_yticks([])\n",
    "    ax2.imshow(input_img)\n",
    "    \n",
    "    plt.subplots_adjust(top=0.85)\n",
    "    plt.show()"
   ]
  },
  {
   "cell_type": "code",
   "execution_count": null,
   "metadata": {},
   "outputs": [],
   "source": []
  }
 ],
 "metadata": {
  "kernelspec": {
   "display_name": "Python 3",
   "language": "python",
   "name": "python3"
  },
  "language_info": {
   "codemirror_mode": {
    "name": "ipython",
    "version": 3
   },
   "file_extension": ".py",
   "mimetype": "text/x-python",
   "name": "python",
   "nbconvert_exporter": "python",
   "pygments_lexer": "ipython3",
   "version": "3.8.5"
  }
 },
 "nbformat": 4,
 "nbformat_minor": 4
}
